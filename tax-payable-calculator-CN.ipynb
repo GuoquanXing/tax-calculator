{
 "cells": [
  {
   "cell_type": "code",
   "execution_count": 1,
   "id": "8008c866-192b-4bde-ab26-4e99e76f0dd9",
   "metadata": {
    "tags": []
   },
   "outputs": [],
   "source": [
    "class TaxCalculator:\n",
    "    \"\"\"Calculates tax payable based on taxable income.\"\"\"\n",
    "\n",
    "    def __init__(self):\n",
    "        self.tax_meta = {\n",
    "            \"0.03\": [36000, 0, 0.03],\n",
    "            \"0.10\": [144000, 2520, 0.10],\n",
    "            \"0.20\": [300000, 16920, 0.20],\n",
    "            \"0.25\": [420000, 31920, 0.25],\n",
    "            \"0.30\": [660000, 52920, 0.30],\n",
    "            \"0.35\": [960000, 85920, 0.35],\n",
    "            \"0.45\": [9999999, 181920, 0.45],\n",
    "        }\n",
    "\n",
    "    def get_tax_meta(self, taxable_income):\n",
    "        \"\"\"Retrieves tax information for the given taxable income.\"\"\"\n",
    "        for key, value in self.tax_meta.items():\n",
    "            if value[0] >= taxable_income:\n",
    "                return value\n",
    "        return self.tax_meta[-1]  # Default to the highest bracket\n",
    "\n",
    "    def calculate_tax_payable(self, taxable_income):\n",
    "        \"\"\"Calculates the tax payable based on taxable income.\"\"\"\n",
    "        tax_meta = self.get_tax_meta(taxable_income)\n",
    "        print(\"the tax meta for taxable_income \" + str(taxable_income) + \":\", tax_meta)\n",
    "        tax_payable = taxable_income * tax_meta[2] - tax_meta[1]\n",
    "        return tax_payable\n"
   ]
  },
  {
   "cell_type": "code",
   "execution_count": 2,
   "id": "009d8f1b-f741-4b9b-a369-7764de201ad8",
   "metadata": {
    "tags": []
   },
   "outputs": [],
   "source": [
    "# Example usage:\n",
    "calculator = TaxCalculator()"
   ]
  },
  {
   "cell_type": "code",
   "execution_count": 3,
   "id": "512fe04a-a060-41a2-be41-330533f51260",
   "metadata": {
    "tags": []
   },
   "outputs": [
    {
     "name": "stdout",
     "output_type": "stream",
     "text": [
      "the tax meta for taxable_income 300000: [300000, 16920, 0.2]\n",
      "the tax meta for taxable_income 100000: [144000, 2520, 0.1]\n",
      "total tax payable: 50560.0\n"
     ]
    }
   ],
   "source": [
    "taxable_salary = 300000\n",
    "taxable_bonus =  100000\n",
    "\n",
    "tax_payable_salary = calculator.calculate_tax_payable(taxable_salary)\n",
    "tax_payable_bonus = calculator.calculate_tax_payable(taxable_bonus)\n",
    "print(\"total tax payable:\", tax_payable_salary + tax_payable_bonus)  # total tax payable"
   ]
  },
  {
   "cell_type": "code",
   "execution_count": null,
   "id": "33f8802c-571d-4429-9146-a9495924837f",
   "metadata": {},
   "outputs": [],
   "source": []
  }
 ],
 "metadata": {
  "kernelspec": {
   "display_name": "Python 3 (ipykernel)",
   "language": "python",
   "name": "python3"
  },
  "language_info": {
   "codemirror_mode": {
    "name": "ipython",
    "version": 3
   },
   "file_extension": ".py",
   "mimetype": "text/x-python",
   "name": "python",
   "nbconvert_exporter": "python",
   "pygments_lexer": "ipython3",
   "version": "3.11.5"
  }
 },
 "nbformat": 4,
 "nbformat_minor": 5
}
